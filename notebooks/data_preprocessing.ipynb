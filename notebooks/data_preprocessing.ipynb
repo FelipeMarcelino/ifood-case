{
 "cells": [
  {
   "cell_type": "code",
   "execution_count": 1,
   "id": "09c12798-fcc8-4b73-81c8-990f1acccdbd",
   "metadata": {},
   "outputs": [],
   "source": [
    "import pyspark"
   ]
  },
  {
   "cell_type": "code",
   "execution_count": 2,
   "id": "ccff9998-f491-4fbf-9344-1d0e0f68369b",
   "metadata": {},
   "outputs": [
    {
     "name": "stderr",
     "output_type": "stream",
     "text": [
      "25/09/20 12:15:20 WARN Utils: Your hostname, solid resolves to a loopback address: 127.0.0.2; using 192.168.0.39 instead (on interface enp5s0)\n",
      "25/09/20 12:15:20 WARN Utils: Set SPARK_LOCAL_IP if you need to bind to another address\n",
      "Setting default log level to \"WARN\".\n",
      "To adjust logging level use sc.setLogLevel(newLevel). For SparkR, use setLogLevel(newLevel).\n",
      "25/09/20 12:15:20 WARN NativeCodeLoader: Unable to load native-hadoop library for your platform... using builtin-java classes where applicable\n"
     ]
    }
   ],
   "source": [
    "spark = pyspark.sql.SparkSession.builder.appName(\"ifood-case\").getOrCreate()"
   ]
  },
  {
   "cell_type": "code",
   "execution_count": 6,
   "id": "6b55402b-c37c-4f74-8d1b-be2c0adadf2b",
   "metadata": {},
   "outputs": [
    {
     "name": "stderr",
     "output_type": "stream",
     "text": [
      "                                                                                "
     ]
    }
   ],
   "source": [
    "offers = spark.read.json(\"../data/raw/offers.json\")\n",
    "transactions = spark.read.json(\"../data/raw/transactions.json\")\n",
    "profile = spark.read.json(\"../data/raw/profile.json\")"
   ]
  },
  {
   "cell_type": "code",
   "execution_count": 7,
   "id": "38c453d6-024a-417d-af97-3da0a59e550f",
   "metadata": {},
   "outputs": [
    {
     "ename": "AttributeError",
     "evalue": "display",
     "output_type": "error",
     "traceback": [
      "\u001b[31m---------------------------------------------------------------------------\u001b[39m",
      "\u001b[31mValueError\u001b[39m                                Traceback (most recent call last)",
      "\u001b[36mFile \u001b[39m\u001b[32m/nix/store/kizzsmn1w5b232w6wapss5zxdxcpl8r4-python3.13-pyspark-3.5.5/lib/python3.13/site-packages/pyspark/sql/types.py:2391\u001b[39m, in \u001b[36mRow.__getattr__\u001b[39m\u001b[34m(self, item)\u001b[39m\n\u001b[32m   2388\u001b[39m \u001b[38;5;28;01mtry\u001b[39;00m:\n\u001b[32m   2389\u001b[39m     \u001b[38;5;66;03m# it will be slow when it has many fields,\u001b[39;00m\n\u001b[32m   2390\u001b[39m     \u001b[38;5;66;03m# but this will not be used in normal cases\u001b[39;00m\n\u001b[32m-> \u001b[39m\u001b[32m2391\u001b[39m     idx = \u001b[38;5;28;43mself\u001b[39;49m\u001b[43m.\u001b[49m\u001b[43m__fields__\u001b[49m\u001b[43m.\u001b[49m\u001b[43mindex\u001b[49m\u001b[43m(\u001b[49m\u001b[43mitem\u001b[49m\u001b[43m)\u001b[49m\n\u001b[32m   2392\u001b[39m     \u001b[38;5;28;01mreturn\u001b[39;00m \u001b[38;5;28mself\u001b[39m[idx]\n",
      "\u001b[31mValueError\u001b[39m: 'display' is not in list",
      "\nDuring handling of the above exception, another exception occurred:\n",
      "\u001b[31mAttributeError\u001b[39m                            Traceback (most recent call last)",
      "\u001b[36mCell\u001b[39m\u001b[36m \u001b[39m\u001b[32mIn[7]\u001b[39m\u001b[32m, line 1\u001b[39m\n\u001b[32m----> \u001b[39m\u001b[32m1\u001b[39m \u001b[43moffers\u001b[49m\u001b[43m.\u001b[49m\u001b[43mhead\u001b[49m\u001b[43m(\u001b[49m\u001b[43m)\u001b[49m\u001b[43m.\u001b[49m\u001b[43mdisplay\u001b[49m()\n",
      "\u001b[36mFile \u001b[39m\u001b[32m/nix/store/kizzsmn1w5b232w6wapss5zxdxcpl8r4-python3.13-pyspark-3.5.5/lib/python3.13/site-packages/pyspark/sql/types.py:2396\u001b[39m, in \u001b[36mRow.__getattr__\u001b[39m\u001b[34m(self, item)\u001b[39m\n\u001b[32m   2394\u001b[39m     \u001b[38;5;28;01mraise\u001b[39;00m \u001b[38;5;167;01mAttributeError\u001b[39;00m(item)\n\u001b[32m   2395\u001b[39m \u001b[38;5;28;01mexcept\u001b[39;00m \u001b[38;5;167;01mValueError\u001b[39;00m:\n\u001b[32m-> \u001b[39m\u001b[32m2396\u001b[39m     \u001b[38;5;28;01mraise\u001b[39;00m \u001b[38;5;167;01mAttributeError\u001b[39;00m(item)\n",
      "\u001b[31mAttributeError\u001b[39m: display"
     ]
    }
   ],
   "source": []
  },
  {
   "cell_type": "code",
   "execution_count": null,
   "id": "a1d15787-6f5d-43e3-9f44-bd2ddc51f427",
   "metadata": {},
   "outputs": [],
   "source": []
  }
 ],
 "metadata": {
  "kernelspec": {
   "display_name": "Python 3 (ipykernel)",
   "language": "python",
   "name": "python3"
  },
  "language_info": {
   "codemirror_mode": {
    "name": "ipython",
    "version": 3
   },
   "file_extension": ".py",
   "mimetype": "text/x-python",
   "name": "python",
   "nbconvert_exporter": "python",
   "pygments_lexer": "ipython3",
   "version": "3.13.7"
  }
 },
 "nbformat": 4,
 "nbformat_minor": 5
}
