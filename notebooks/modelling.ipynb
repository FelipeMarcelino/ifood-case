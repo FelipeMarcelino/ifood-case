{
 "cells": [
  {
   "cell_type": "code",
   "execution_count": 1,
   "id": "3ca2ce5b-c847-4d37-a73b-da3c97668fa3",
   "metadata": {},
   "outputs": [],
   "source": [
    "%load_ext autoreload"
   ]
  },
  {
   "cell_type": "code",
   "execution_count": 2,
   "id": "b56ce9aa-0168-4335-bbb4-5f2f3690b3b7",
   "metadata": {},
   "outputs": [],
   "source": [
    "%autoreload 2"
   ]
  },
  {
   "cell_type": "markdown",
   "id": "110afec2-8e82-4442-9a72-fff17d9afc8c",
   "metadata": {},
   "source": [
    "## Imports"
   ]
  },
  {
   "cell_type": "code",
   "execution_count": 3,
   "id": "9c77b3b2-3861-4fd8-a626-9b9bb3453503",
   "metadata": {},
   "outputs": [],
   "source": [
    "import pyspark\n",
    "from ifood_case.feature_engineering import FeatureEngineering\n",
    "from ifood_case.model_trainer import LGBMTrainer\n",
    "from ifood_case.evaluator import Evaluator\n",
    "from ifood_case.utils import find_optimal_threshold\n",
    "import pyspark.sql.functions as F\n",
    "import warnings"
   ]
  },
  {
   "cell_type": "code",
   "execution_count": 4,
   "id": "73ee1c5a-1bee-4f64-bb77-b1973967cd87",
   "metadata": {},
   "outputs": [],
   "source": [
    "warnings.filterwarnings('ignore')"
   ]
  },
  {
   "cell_type": "markdown",
   "id": "e52b3f2e-f3e8-48a2-9a95-1f72b2db5deb",
   "metadata": {},
   "source": [
    "## Initialize Spark"
   ]
  },
  {
   "cell_type": "code",
   "execution_count": 5,
   "id": "fc53347f-20cc-4574-8066-c549de414e51",
   "metadata": {},
   "outputs": [
    {
     "name": "stderr",
     "output_type": "stream",
     "text": [
      "25/09/25 15:37:56 WARN Utils: Your hostname, solid resolves to a loopback address: 127.0.0.2; using 192.168.0.39 instead (on interface enp5s0)\n",
      "25/09/25 15:37:56 WARN Utils: Set SPARK_LOCAL_IP if you need to bind to another address\n",
      "Setting default log level to \"WARN\".\n",
      "To adjust logging level use sc.setLogLevel(newLevel). For SparkR, use setLogLevel(newLevel).\n",
      "25/09/25 15:37:56 WARN NativeCodeLoader: Unable to load native-hadoop library for your platform... using builtin-java classes where applicable\n"
     ]
    }
   ],
   "source": [
    "spark = pyspark.sql.SparkSession.builder.appName(\"ifood-case\").getOrCreate()"
   ]
  },
  {
   "cell_type": "markdown",
   "id": "40653d7d-817e-4773-8cff-cd6db4d5cdc2",
   "metadata": {},
   "source": [
    "## Variables"
   ]
  },
  {
   "cell_type": "code",
   "execution_count": 6,
   "id": "b774aba8-547b-455a-8e85-4c0792d392dd",
   "metadata": {},
   "outputs": [],
   "source": [
    "OFFER_COST = 0.50 # Custo para enviar uma oferta para alguém. Sintético e simbólico"
   ]
  },
  {
   "cell_type": "markdown",
   "id": "a078c3e1-1490-4a67-b5cf-a88da847eb82",
   "metadata": {},
   "source": [
    "## Load Data"
   ]
  },
  {
   "cell_type": "code",
   "execution_count": 7,
   "id": "97238be3-b6cf-4934-a4c7-7037a4d7c370",
   "metadata": {},
   "outputs": [],
   "source": [
    "offers = spark.read.parquet(\"../data/processed/offers_processed\")\n",
    "transactions = spark.read.parquet(\"../data/processed/transactions_processed\")\n",
    "profile = spark.read.parquet(\"../data/processed/profile_processed\")"
   ]
  },
  {
   "cell_type": "markdown",
   "id": "73561784-8aaa-4c46-9532-f09b77124d7b",
   "metadata": {},
   "source": [
    "## Modelling"
   ]
  },
  {
   "cell_type": "markdown",
   "id": "2ea4fb4f-47ac-43ee-8cc0-1e63aa73e80a",
   "metadata": {},
   "source": [
    "### Feature Engieneering"
   ]
  },
  {
   "cell_type": "code",
   "execution_count": 8,
   "id": "bd835835-0432-43d7-b6c1-269160843234",
   "metadata": {},
   "outputs": [],
   "source": [
    "fe = FeatureEngineering(offers, transactions, profile)"
   ]
  },
  {
   "cell_type": "code",
   "execution_count": 9,
   "id": "96c5a606-0f10-4cef-891b-ec9134b57a5d",
   "metadata": {},
   "outputs": [],
   "source": [
    "df, numerical_columns, categorical_columns = fe.transform()"
   ]
  },
  {
   "cell_type": "code",
   "execution_count": 10,
   "id": "a05b22ad-acb2-4a42-9ac7-f8400d965ff7",
   "metadata": {},
   "outputs": [
    {
     "name": "stdout",
     "output_type": "stream",
     "text": [
      "root\n",
      " |-- account_id: string (nullable = true)\n",
      " |-- offer_id: string (nullable = true)\n",
      " |-- time_received: double (nullable = true)\n",
      " |-- target: integer (nullable = false)\n",
      " |-- total_spend_before: double (nullable = true)\n",
      " |-- transaction_count_before: long (nullable = true)\n",
      " |-- avg_ticket_before: double (nullable = true)\n",
      " |-- max_ticket_before: double (nullable = true)\n",
      " |-- min_ticket_before: double (nullable = true)\n",
      " |-- offers_viewed_count_before: long (nullable = true)\n",
      " |-- offers_completed_count_before: long (nullable = true)\n",
      " |-- customer_conversion_rate_before: double (nullable = true)\n",
      " |-- last_offer_viewed_type: string (nullable = true)\n",
      " |-- gender: string (nullable = true)\n",
      " |-- age: long (nullable = true)\n",
      " |-- age_group: string (nullable = true)\n",
      " |-- credit_card_limit: double (nullable = true)\n",
      " |-- month_sin: double (nullable = true)\n",
      " |-- month_cos: double (nullable = true)\n",
      " |-- dayofweek_sin: double (nullable = true)\n",
      " |-- dayofweek_cos: double (nullable = true)\n",
      " |-- offer_type: string (nullable = true)\n",
      " |-- duration: double (nullable = true)\n",
      " |-- min_value: long (nullable = true)\n",
      " |-- discount_value: long (nullable = true)\n",
      " |-- reward_ratio: double (nullable = true)\n",
      " |-- channel_is_mobile: integer (nullable = true)\n",
      " |-- channel_is_email: integer (nullable = true)\n",
      " |-- channel_is_social: integer (nullable = true)\n",
      " |-- channel_is_web: integer (nullable = true)\n",
      "\n"
     ]
    }
   ],
   "source": [
    "df.printSchema()"
   ]
  },
  {
   "cell_type": "markdown",
   "id": "2853bd59-40cf-47ce-98b3-3bb1c3c7bf3d",
   "metadata": {},
   "source": [
    "### Model Train"
   ]
  },
  {
   "cell_type": "code",
   "execution_count": 11,
   "id": "7c94ad47-8cfe-4085-96dd-301c343b46a0",
   "metadata": {},
   "outputs": [],
   "source": [
    "lgbm_trainer = LGBMTrainer(df, numerical_columns, categorical_columns, \"target\")"
   ]
  },
  {
   "cell_type": "code",
   "execution_count": null,
   "id": "d8bd2bda-3bf8-4559-93a6-bc61d30e8873",
   "metadata": {
    "scrolled": true
   },
   "outputs": [
    {
     "name": "stderr",
     "output_type": "stream",
     "text": [
      "25/09/25 15:38:02 WARN SparkStringUtils: Truncated the string representation of a plan since it was too large. This behavior can be adjusted by setting 'spark.sql.debug.maxToStringFields'.\n",
      "                                                                                "
     ]
    }
   ],
   "source": [
    "x_train, x_test, y_train, y_test = lgbm_trainer.train()"
   ]
  },
  {
   "cell_type": "markdown",
   "id": "d6793f2d-cc6d-4de4-8314-abd6c425cb87",
   "metadata": {},
   "source": [
    "### Model Evaluate"
   ]
  },
  {
   "cell_type": "code",
   "execution_count": null,
   "id": "4b8f19b6-fb2a-47ab-9dfa-1bc817208ab5",
   "metadata": {},
   "outputs": [],
   "source": [
    "evaluator = Evaluator(y_test)"
   ]
  },
  {
   "cell_type": "code",
   "execution_count": null,
   "id": "3f9f956c-eaf5-4a2e-9711-e2db6e177b6e",
   "metadata": {},
   "outputs": [],
   "source": [
    "y_pred = lgbm_trainer.predict(x_test)"
   ]
  },
  {
   "cell_type": "code",
   "execution_count": null,
   "id": "d85d51e8-df56-479f-9f90-7d618acc4545",
   "metadata": {},
   "outputs": [],
   "source": [
    "y_pred_proba = lgbm_trainer.predict_proba(x_test)"
   ]
  },
  {
   "cell_type": "code",
   "execution_count": null,
   "id": "67366aea-c4c3-4ecc-82a0-589dca662798",
   "metadata": {},
   "outputs": [],
   "source": [
    "metrics = evaluator.report(y_pred, y_pred_proba)"
   ]
  },
  {
   "cell_type": "code",
   "execution_count": null,
   "id": "e0158833-516b-4462-af3f-0329ef75233d",
   "metadata": {},
   "outputs": [],
   "source": [
    "metrics[\"actual_conversion_rate_test (%)\"]"
   ]
  },
  {
   "cell_type": "code",
   "execution_count": null,
   "id": "89ca691b-647d-421c-8d4d-7c11370e3625",
   "metadata": {},
   "outputs": [],
   "source": [
    "metrics[\"model_conversion_rate (%)\"]"
   ]
  },
  {
   "cell_type": "code",
   "execution_count": null,
   "id": "98eff5d0-53e3-4a94-895e-6bc769c13bc3",
   "metadata": {},
   "outputs": [],
   "source": [
    "metrics[\"classification_report\"]"
   ]
  },
  {
   "cell_type": "markdown",
   "id": "177f822d-b437-49e3-9a0e-22a034f53ad1",
   "metadata": {},
   "source": [
    "#### UP Lift"
   ]
  },
  {
   "cell_type": "code",
   "execution_count": null,
   "id": "04a4ac26-f272-4133-ad96-cbc134f52296",
   "metadata": {},
   "outputs": [],
   "source": [
    "avg_conversion_value = x_train.loc[y_train == 1,:]['max_ticket_before'].mean()"
   ]
  },
  {
   "cell_type": "code",
   "execution_count": null,
   "id": "83b29218-5da8-438a-a2fb-636c8bc01934",
   "metadata": {},
   "outputs": [],
   "source": [
    "results_df = find_optimal_threshold(evaluator, y_pred_proba, avg_conversion_value, OFFER_COST)"
   ]
  },
  {
   "cell_type": "code",
   "execution_count": null,
   "id": "c5d085fd-e315-429c-a069-cc3a50e16a8b",
   "metadata": {},
   "outputs": [],
   "source": []
  }
 ],
 "metadata": {
  "kernelspec": {
   "display_name": "Python 3 (ipykernel)",
   "language": "python",
   "name": "python3"
  },
  "language_info": {
   "codemirror_mode": {
    "name": "ipython",
    "version": 3
   },
   "file_extension": ".py",
   "mimetype": "text/x-python",
   "name": "python",
   "nbconvert_exporter": "python",
   "pygments_lexer": "ipython3",
   "version": "3.13.7"
  }
 },
 "nbformat": 4,
 "nbformat_minor": 5
}
