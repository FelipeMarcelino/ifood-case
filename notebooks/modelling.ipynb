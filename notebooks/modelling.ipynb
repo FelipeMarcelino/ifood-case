{
 "cells": [
  {
   "cell_type": "code",
   "execution_count": 1,
   "id": "3ca2ce5b-c847-4d37-a73b-da3c97668fa3",
   "metadata": {},
   "outputs": [],
   "source": [
    "%load_ext autoreload"
   ]
  },
  {
   "cell_type": "code",
   "execution_count": 2,
   "id": "b56ce9aa-0168-4335-bbb4-5f2f3690b3b7",
   "metadata": {},
   "outputs": [],
   "source": [
    "%autoreload 2"
   ]
  },
  {
   "cell_type": "markdown",
   "id": "110afec2-8e82-4442-9a72-fff17d9afc8c",
   "metadata": {},
   "source": [
    "## Imports"
   ]
  },
  {
   "cell_type": "code",
   "execution_count": 3,
   "id": "9c77b3b2-3861-4fd8-a626-9b9bb3453503",
   "metadata": {},
   "outputs": [],
   "source": [
    "import pyspark\n",
    "from ifood_case.feature_engineering import FeatureEngineering\n",
    "import pyspark.sql.functions as F"
   ]
  },
  {
   "cell_type": "markdown",
   "id": "e52b3f2e-f3e8-48a2-9a95-1f72b2db5deb",
   "metadata": {},
   "source": [
    "## Initialize Spark"
   ]
  },
  {
   "cell_type": "code",
   "execution_count": 4,
   "id": "fc53347f-20cc-4574-8066-c549de414e51",
   "metadata": {},
   "outputs": [
    {
     "name": "stderr",
     "output_type": "stream",
     "text": [
      "25/09/24 07:48:35 WARN Utils: Your hostname, solid resolves to a loopback address: 127.0.0.2; using 192.168.0.39 instead (on interface enp5s0)\n",
      "25/09/24 07:48:35 WARN Utils: Set SPARK_LOCAL_IP if you need to bind to another address\n",
      "Setting default log level to \"WARN\".\n",
      "To adjust logging level use sc.setLogLevel(newLevel). For SparkR, use setLogLevel(newLevel).\n",
      "25/09/24 07:48:35 WARN NativeCodeLoader: Unable to load native-hadoop library for your platform... using builtin-java classes where applicable\n"
     ]
    }
   ],
   "source": [
    "spark = pyspark.sql.SparkSession.builder.appName(\"ifood-case\").getOrCreate()"
   ]
  },
  {
   "cell_type": "markdown",
   "id": "a078c3e1-1490-4a67-b5cf-a88da847eb82",
   "metadata": {},
   "source": [
    "## Load Data"
   ]
  },
  {
   "cell_type": "code",
   "execution_count": 5,
   "id": "97238be3-b6cf-4934-a4c7-7037a4d7c370",
   "metadata": {},
   "outputs": [],
   "source": [
    "offers = spark.read.parquet(\"../data/processed/offers_processed\")\n",
    "transactions = spark.read.parquet(\"../data/processed/transactions_processed\")\n",
    "profile = spark.read.parquet(\"../data/processed/profile_processed\")"
   ]
  },
  {
   "cell_type": "markdown",
   "id": "73561784-8aaa-4c46-9532-f09b77124d7b",
   "metadata": {},
   "source": [
    "## Modelling"
   ]
  },
  {
   "cell_type": "markdown",
   "id": "2ea4fb4f-47ac-43ee-8cc0-1e63aa73e80a",
   "metadata": {},
   "source": [
    "### Feature Engieneering"
   ]
  },
  {
   "cell_type": "code",
   "execution_count": 7,
   "id": "bd835835-0432-43d7-b6c1-269160843234",
   "metadata": {},
   "outputs": [],
   "source": [
    "fe = FeatureEngineering(offers, transactions, profile)"
   ]
  },
  {
   "cell_type": "code",
   "execution_count": 8,
   "id": "96c5a606-0f10-4cef-891b-ec9134b57a5d",
   "metadata": {},
   "outputs": [],
   "source": [
    "df = fe.transform()"
   ]
  },
  {
   "cell_type": "code",
   "execution_count": 9,
   "id": "a05b22ad-acb2-4a42-9ac7-f8400d965ff7",
   "metadata": {},
   "outputs": [
    {
     "name": "stdout",
     "output_type": "stream",
     "text": [
      "root\n",
      " |-- account_id: string (nullable = true)\n",
      " |-- offer_id: string (nullable = true)\n",
      " |-- time_received: double (nullable = true)\n",
      " |-- target: integer (nullable = false)\n",
      " |-- total_spend_before: double (nullable = true)\n",
      " |-- transaction_count_before: long (nullable = true)\n",
      " |-- avg_ticket_before: double (nullable = true)\n",
      " |-- max_ticket_before: double (nullable = true)\n",
      " |-- min_ticket_before: double (nullable = true)\n",
      " |-- offers_viewed_count_before: long (nullable = true)\n",
      " |-- offers_completed_count_before: long (nullable = true)\n",
      " |-- customer_conversion_rate_before: double (nullable = true)\n",
      " |-- last_offer_viewed_type: string (nullable = true)\n",
      " |-- gender: string (nullable = true)\n",
      " |-- age: long (nullable = true)\n",
      " |-- credit_card_limit: double (nullable = true)\n",
      " |-- month_sin: double (nullable = true)\n",
      " |-- month_cos: double (nullable = true)\n",
      " |-- dayofweek_sin: double (nullable = true)\n",
      " |-- dayofweek_cos: double (nullable = true)\n",
      " |-- discount_value: long (nullable = true)\n",
      " |-- duration: double (nullable = true)\n",
      " |-- min_value: long (nullable = true)\n",
      " |-- offer_type: string (nullable = true)\n",
      " |-- email: integer (nullable = true)\n",
      " |-- social: integer (nullable = true)\n",
      " |-- mobile: integer (nullable = true)\n",
      " |-- web: integer (nullable = true)\n",
      "\n"
     ]
    }
   ],
   "source": [
    "df.printSchema()"
   ]
  },
  {
   "cell_type": "code",
   "execution_count": null,
   "id": "366d8ccf-96a4-46b4-98f2-27919589400f",
   "metadata": {},
   "outputs": [],
   "source": []
  }
 ],
 "metadata": {
  "kernelspec": {
   "display_name": "Python 3 (ipykernel)",
   "language": "python",
   "name": "python3"
  },
  "language_info": {
   "codemirror_mode": {
    "name": "ipython",
    "version": 3
   },
   "file_extension": ".py",
   "mimetype": "text/x-python",
   "name": "python",
   "nbconvert_exporter": "python",
   "pygments_lexer": "ipython3",
   "version": "3.13.7"
  }
 },
 "nbformat": 4,
 "nbformat_minor": 5
}
