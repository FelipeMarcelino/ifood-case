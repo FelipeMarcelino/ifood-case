{
 "cells": [
  {
   "cell_type": "code",
   "execution_count": 1,
   "id": "3ca2ce5b-c847-4d37-a73b-da3c97668fa3",
   "metadata": {},
   "outputs": [],
   "source": [
    "%load_ext autoreload"
   ]
  },
  {
   "cell_type": "code",
   "execution_count": 2,
   "id": "b56ce9aa-0168-4335-bbb4-5f2f3690b3b7",
   "metadata": {},
   "outputs": [],
   "source": [
    "%autoreload 2"
   ]
  },
  {
   "cell_type": "markdown",
   "id": "110afec2-8e82-4442-9a72-fff17d9afc8c",
   "metadata": {},
   "source": [
    "## Imports"
   ]
  },
  {
   "cell_type": "code",
   "execution_count": 3,
   "id": "9c77b3b2-3861-4fd8-a626-9b9bb3453503",
   "metadata": {},
   "outputs": [],
   "source": [
    "import pyspark\n",
    "from ifood_case.feature_engineering import FeatureEngineering\n",
    "import pyspark.sql.functions as F"
   ]
  },
  {
   "cell_type": "markdown",
   "id": "e52b3f2e-f3e8-48a2-9a95-1f72b2db5deb",
   "metadata": {},
   "source": [
    "## Initialize Spark"
   ]
  },
  {
   "cell_type": "code",
   "execution_count": 4,
   "id": "fc53347f-20cc-4574-8066-c549de414e51",
   "metadata": {},
   "outputs": [
    {
     "name": "stderr",
     "output_type": "stream",
     "text": [
      "25/09/24 07:48:35 WARN Utils: Your hostname, solid resolves to a loopback address: 127.0.0.2; using 192.168.0.39 instead (on interface enp5s0)\n",
      "25/09/24 07:48:35 WARN Utils: Set SPARK_LOCAL_IP if you need to bind to another address\n",
      "Setting default log level to \"WARN\".\n",
      "To adjust logging level use sc.setLogLevel(newLevel). For SparkR, use setLogLevel(newLevel).\n",
      "25/09/24 07:48:35 WARN NativeCodeLoader: Unable to load native-hadoop library for your platform... using builtin-java classes where applicable\n"
     ]
    }
   ],
   "source": [
    "spark = pyspark.sql.SparkSession.builder.appName(\"ifood-case\").getOrCreate()"
   ]
  },
  {
   "cell_type": "markdown",
   "id": "a078c3e1-1490-4a67-b5cf-a88da847eb82",
   "metadata": {},
   "source": [
    "## Load Data"
   ]
  },
  {
   "cell_type": "code",
   "execution_count": 5,
   "id": "97238be3-b6cf-4934-a4c7-7037a4d7c370",
   "metadata": {},
   "outputs": [],
   "source": [
    "offers = spark.read.parquet(\"../data/processed/offers_processed\")\n",
    "transactions = spark.read.parquet(\"../data/processed/transactions_processed\")\n",
    "profile = spark.read.parquet(\"../data/processed/profile_processed\")"
   ]
  },
  {
   "cell_type": "markdown",
   "id": "73561784-8aaa-4c46-9532-f09b77124d7b",
   "metadata": {},
   "source": [
    "## Modelling"
   ]
  },
  {
   "cell_type": "markdown",
   "id": "2ea4fb4f-47ac-43ee-8cc0-1e63aa73e80a",
   "metadata": {},
   "source": [
    "### Feature Engieneering"
   ]
  },
  {
   "cell_type": "code",
   "execution_count": 6,
   "id": "f3a90e06-191c-46fd-956b-4ab26011f2a9",
   "metadata": {},
   "outputs": [
    {
     "name": "stdout",
     "output_type": "stream",
     "text": [
      "root\n",
      " |-- account_id: string (nullable = true)\n",
      " |-- event: string (nullable = true)\n",
      " |-- time_since_test_start: double (nullable = true)\n",
      " |-- offer_completed: string (nullable = true)\n",
      " |-- offer_received_viewed: string (nullable = true)\n",
      " |-- amount: double (nullable = true)\n",
      " |-- reward: double (nullable = true)\n",
      "\n"
     ]
    }
   ],
   "source": [
    "transactions.printSchema()"
   ]
  },
  {
   "cell_type": "code",
   "execution_count": 7,
   "id": "bd835835-0432-43d7-b6c1-269160843234",
   "metadata": {},
   "outputs": [],
   "source": [
    "fe = FeatureEngineering(offers, transactions, profile)"
   ]
  },
  {
   "cell_type": "code",
   "execution_count": 8,
   "id": "96c5a606-0f10-4cef-891b-ec9134b57a5d",
   "metadata": {},
   "outputs": [],
   "source": [
    "df = fe.transform()"
   ]
  },
  {
   "cell_type": "code",
   "execution_count": 9,
   "id": "a05b22ad-acb2-4a42-9ac7-f8400d965ff7",
   "metadata": {},
   "outputs": [
    {
     "name": "stdout",
     "output_type": "stream",
     "text": [
      "root\n",
      " |-- account_id: string (nullable = true)\n",
      " |-- offer_id: string (nullable = true)\n",
      " |-- time_received: double (nullable = true)\n",
      " |-- target: integer (nullable = false)\n",
      " |-- total_spend_before: double (nullable = true)\n",
      " |-- transaction_count_before: long (nullable = true)\n",
      " |-- avg_ticket_before: double (nullable = true)\n",
      " |-- max_ticket_before: double (nullable = true)\n",
      " |-- min_ticket_before: double (nullable = true)\n",
      " |-- offers_viewed_count_before: long (nullable = true)\n",
      " |-- offers_completed_count_before: long (nullable = true)\n",
      " |-- customer_conversion_rate_before: double (nullable = true)\n",
      " |-- last_offer_viewed_type: string (nullable = true)\n",
      " |-- gender: string (nullable = true)\n",
      " |-- age: long (nullable = true)\n",
      " |-- credit_card_limit: double (nullable = true)\n",
      " |-- month_sin: double (nullable = true)\n",
      " |-- month_cos: double (nullable = true)\n",
      " |-- dayofweek_sin: double (nullable = true)\n",
      " |-- dayofweek_cos: double (nullable = true)\n",
      " |-- discount_value: long (nullable = true)\n",
      " |-- duration: double (nullable = true)\n",
      " |-- min_value: long (nullable = true)\n",
      " |-- offer_type: string (nullable = true)\n",
      " |-- email: integer (nullable = true)\n",
      " |-- social: integer (nullable = true)\n",
      " |-- mobile: integer (nullable = true)\n",
      " |-- web: integer (nullable = true)\n",
      "\n"
     ]
    }
   ],
   "source": [
    "df.printSchema()"
   ]
  },
  {
   "cell_type": "code",
   "execution_count": 10,
   "id": "31ebe7e3-85c2-411d-a397-5920a3664635",
   "metadata": {},
   "outputs": [
    {
     "name": "stderr",
     "output_type": "stream",
     "text": [
      "25/09/24 07:48:41 WARN SparkStringUtils: Truncated the string representation of a plan since it was too large. This behavior can be adjusted by setting 'spark.sql.debug.maxToStringFields'.\n",
      "                                                                                "
     ]
    },
    {
     "name": "stdout",
     "output_type": "stream",
     "text": [
      "+--------------------------------+--------------------------------+-------------+------+------------------+------------------------+-----------------+-----------------+-----------------+--------------------------+-----------------------------+-------------------------------+----------------------+------+----+-----------------+-----------------------+-----------------------+-------------------+--------------------+--------------+--------+---------+-------------+-----+------+------+---+\n",
      "|account_id                      |offer_id                        |time_received|target|total_spend_before|transaction_count_before|avg_ticket_before|max_ticket_before|min_ticket_before|offers_viewed_count_before|offers_completed_count_before|customer_conversion_rate_before|last_offer_viewed_type|gender|age |credit_card_limit|month_sin              |month_cos              |dayofweek_sin      |dayofweek_cos       |discount_value|duration|min_value|offer_type   |email|social|mobile|web|\n",
      "+--------------------------------+--------------------------------+-------------+------+------------------+------------------------+-----------------+-----------------+-----------------+--------------------------+-----------------------------+-------------------------------+----------------------+------+----+-----------------+-----------------------+-----------------------+-------------------+--------------------+--------------+--------+---------+-------------+-----+------+------+---+\n",
      "|2ea73e6c54a24ada860f42fd56a80b3b|0b1e1539f2cc45b7b9fa7c272da2e1d7|0.0          |1     |0.0               |0                       |0.0              |0.0              |0.0              |0                         |0                            |0.0                            |NULL                  |M     |47  |82000.0          |-0.8660254037844386    |0.5000000000000001     |0.9749279121818236 |-0.22252093395631434|5             |10.0    |20       |discount     |1    |0     |0     |1  |\n",
      "|5a609dc56d1c4f6d848040b23ca6c806|9b98b8c7a33c4b65b9aebfe6a799e6d9|0.0          |0     |0.0               |0                       |0.0              |0.0              |0.0              |0                         |0                            |0.0                            |NULL                  |NULL  |NULL|NULL             |0.49999999999999994    |0.8660254037844387     |-0.9749279121818236|-0.2225209339563146 |5             |7.0     |5        |bogo         |1    |0     |1     |1  |\n",
      "|721eb06ac285463aa6e1184e0ea9b7f0|9b98b8c7a33c4b65b9aebfe6a799e6d9|0.0          |0     |0.0               |0                       |0.0              |0.0              |0.0              |0                         |0                            |0.0                            |NULL                  |F     |18  |49000.0          |0.49999999999999994    |-0.8660254037844387    |-0.433883739117558 |-0.9009688679024191 |5             |7.0     |5        |bogo         |1    |0     |1     |1  |\n",
      "|a637ef4f38a8419ca56c6903c6f2657c|3f207df678b143eea3cee63160fa8bed|0.0          |1     |0.0               |0                       |0.0              |0.0              |0.0              |0                         |0                            |0.0                            |NULL                  |F     |49  |54000.0          |-2.4492935982947064E-16|1.0                    |-0.433883739117558 |-0.9009688679024191 |0             |4.0     |0        |informational|1    |0     |1     |1  |\n",
      "|a6937b83abe649b38e3c019e559345df|9b98b8c7a33c4b65b9aebfe6a799e6d9|0.0          |0     |0.0               |0                       |0.0              |0.0              |0.0              |0                         |0                            |0.0                            |NULL                  |M     |23  |34000.0          |-1.0                   |-1.8369701987210297E-16|0.7818314824680298 |0.6234898018587336  |5             |7.0     |5        |bogo         |1    |0     |1     |1  |\n",
      "+--------------------------------+--------------------------------+-------------+------+------------------+------------------------+-----------------+-----------------+-----------------+--------------------------+-----------------------------+-------------------------------+----------------------+------+----+-----------------+-----------------------+-----------------------+-------------------+--------------------+--------------+--------+---------+-------------+-----+------+------+---+\n",
      "only showing top 5 rows\n",
      "\n"
     ]
    }
   ],
   "source": [
    "df.show(5, truncate=False)"
   ]
  },
  {
   "cell_type": "code",
   "execution_count": 11,
   "id": "af988dc2-5e52-42c2-a625-532a36d04b1c",
   "metadata": {},
   "outputs": [
    {
     "name": "stdout",
     "output_type": "stream",
     "text": [
      "root\n",
      " |-- channels: array (nullable = true)\n",
      " |    |-- element: string (containsNull = true)\n",
      " |-- discount_value: long (nullable = true)\n",
      " |-- duration: double (nullable = true)\n",
      " |-- id: string (nullable = true)\n",
      " |-- min_value: long (nullable = true)\n",
      " |-- offer_type: string (nullable = true)\n",
      "\n"
     ]
    }
   ],
   "source": [
    "offers.printSchema()"
   ]
  },
  {
   "cell_type": "code",
   "execution_count": 12,
   "id": "0a4e50e9-e632-4943-9fd8-d76adf74b19a",
   "metadata": {},
   "outputs": [
    {
     "name": "stdout",
     "output_type": "stream",
     "text": [
      "root\n",
      " |-- age: long (nullable = true)\n",
      " |-- credit_card_limit: double (nullable = true)\n",
      " |-- gender: string (nullable = true)\n",
      " |-- id: string (nullable = true)\n",
      " |-- registered_on: string (nullable = true)\n",
      " |-- age_group: string (nullable = true)\n",
      "\n"
     ]
    }
   ],
   "source": [
    "profile.printSchema()"
   ]
  },
  {
   "cell_type": "code",
   "execution_count": 13,
   "id": "ddd05488-cfa5-4910-8da3-b06028cfd3bb",
   "metadata": {},
   "outputs": [
    {
     "name": "stdout",
     "output_type": "stream",
     "text": [
      "+---+-----------------+------+--------------------------------+-------------+---------+\n",
      "|age|credit_card_limit|gender|id                              |registered_on|age_group|\n",
      "+---+-----------------+------+--------------------------------+-------------+---------+\n",
      "|118|NULL             |NULL  |68be06ca386d4c31939f3a4f0e3dd783|20170212     |51+      |\n",
      "|55 |112000.0         |F     |0610b486422d4921ae7d2bf64640c50b|20170715     |51+      |\n",
      "|118|NULL             |NULL  |38fe809add3b4fcf9315a9694bb96ff5|20180712     |51+      |\n",
      "|75 |100000.0         |F     |78afa995795e4d85b5d9ceeca43f5fef|20170509     |51+      |\n",
      "|118|NULL             |NULL  |a03223e636434f42ac4c3df47e8bac43|20170804     |51+      |\n",
      "|68 |70000.0          |M     |e2127556f4f64592b11af22de27a7932|20180426     |51+      |\n",
      "|118|NULL             |NULL  |8ec6ce2a7e7949b1bf142def7d0e0586|20170925     |51+      |\n",
      "|118|NULL             |NULL  |68617ca6246f4fbc85e91a2a49552598|20171002     |51+      |\n",
      "|65 |53000.0          |M     |389bc3fa690240e798340f5a15918d5c|20180209     |51+      |\n",
      "|118|NULL             |NULL  |8974fc5686fe429db53ddde067b88302|20161122     |51+      |\n",
      "|118|NULL             |NULL  |c4863c7985cf408faee930f111475da3|20170824     |51+      |\n",
      "|118|NULL             |NULL  |148adfcaa27d485b82f323aaaad036bd|20150919     |51+      |\n",
      "|58 |51000.0          |M     |2eeac8d8feae4a8cad5a6af0499a211d|20171111     |51+      |\n",
      "|61 |57000.0          |F     |aa4862eba776480b8bb9c68455b8c2e1|20170911     |51+      |\n",
      "|26 |46000.0          |M     |e12aeaf2d47d42479ea1c4ac3d8286c6|20140213     |26-35    |\n",
      "|62 |71000.0          |F     |31dda685af34476cad5bc968bdb01c53|20160211     |51+      |\n",
      "|49 |52000.0          |M     |62cf5e10845442329191fc246e7bcea3|20141113     |36-50    |\n",
      "|118|NULL             |NULL  |744d603ef08c4f33af5a61c8c7628d1c|20170801     |51+      |\n",
      "|57 |42000.0          |M     |6445de3b47274c759400cd68131d91b4|20171231     |51+      |\n",
      "|61 |40000.0          |F     |a448667f336b42c9a66fc5ffd5d73772|20180501     |51+      |\n",
      "+---+-----------------+------+--------------------------------+-------------+---------+\n",
      "only showing top 20 rows\n",
      "\n"
     ]
    }
   ],
   "source": [
    "profile.show(truncate=False)"
   ]
  },
  {
   "cell_type": "code",
   "execution_count": null,
   "id": "4484f41a-ecf5-4066-9234-1514d27fa2ed",
   "metadata": {},
   "outputs": [],
   "source": []
  }
 ],
 "metadata": {
  "kernelspec": {
   "display_name": "Python 3 (ipykernel)",
   "language": "python",
   "name": "python3"
  },
  "language_info": {
   "codemirror_mode": {
    "name": "ipython",
    "version": 3
   },
   "file_extension": ".py",
   "mimetype": "text/x-python",
   "name": "python",
   "nbconvert_exporter": "python",
   "pygments_lexer": "ipython3",
   "version": "3.13.7"
  }
 },
 "nbformat": 4,
 "nbformat_minor": 5
}
