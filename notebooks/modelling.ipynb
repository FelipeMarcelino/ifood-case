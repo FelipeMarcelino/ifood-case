{
 "cells": [
  {
   "cell_type": "code",
   "execution_count": 1,
   "id": "3ca2ce5b-c847-4d37-a73b-da3c97668fa3",
   "metadata": {},
   "outputs": [],
   "source": [
    "%load_ext autoreload"
   ]
  },
  {
   "cell_type": "code",
   "execution_count": 2,
   "id": "b56ce9aa-0168-4335-bbb4-5f2f3690b3b7",
   "metadata": {},
   "outputs": [],
   "source": [
    "%autoreload 2"
   ]
  },
  {
   "cell_type": "markdown",
   "id": "110afec2-8e82-4442-9a72-fff17d9afc8c",
   "metadata": {},
   "source": [
    "## Imports"
   ]
  },
  {
   "cell_type": "code",
   "execution_count": 3,
   "id": "9c77b3b2-3861-4fd8-a626-9b9bb3453503",
   "metadata": {},
   "outputs": [],
   "source": [
    "import pyspark\n",
    "from ifood_case.feature_engineering import FeatureEngineering\n",
    "from ifood_case.model_trainer import LGBMTrainer\n",
    "from ifood_case.evaluator import Evaluator\n",
    "from ifood_case.utils import find_optimal_threshold\n",
    "import pyspark.sql.functions as F\n",
    "import warnings"
   ]
  },
  {
   "cell_type": "code",
   "execution_count": 4,
   "id": "73ee1c5a-1bee-4f64-bb77-b1973967cd87",
   "metadata": {},
   "outputs": [],
   "source": [
    "warnings.filterwarnings('ignore')"
   ]
  },
  {
   "cell_type": "markdown",
   "id": "e52b3f2e-f3e8-48a2-9a95-1f72b2db5deb",
   "metadata": {},
   "source": [
    "## Initialize Spark"
   ]
  },
  {
   "cell_type": "code",
   "execution_count": 5,
   "id": "fc53347f-20cc-4574-8066-c549de414e51",
   "metadata": {},
   "outputs": [
    {
     "name": "stderr",
     "output_type": "stream",
     "text": [
      "25/09/25 14:17:32 WARN Utils: Your hostname, solid resolves to a loopback address: 127.0.0.2; using 192.168.0.39 instead (on interface enp5s0)\n",
      "25/09/25 14:17:32 WARN Utils: Set SPARK_LOCAL_IP if you need to bind to another address\n",
      "Setting default log level to \"WARN\".\n",
      "To adjust logging level use sc.setLogLevel(newLevel). For SparkR, use setLogLevel(newLevel).\n",
      "25/09/25 14:17:32 WARN NativeCodeLoader: Unable to load native-hadoop library for your platform... using builtin-java classes where applicable\n"
     ]
    }
   ],
   "source": [
    "spark = pyspark.sql.SparkSession.builder.appName(\"ifood-case\").getOrCreate()"
   ]
  },
  {
   "cell_type": "markdown",
   "id": "40653d7d-817e-4773-8cff-cd6db4d5cdc2",
   "metadata": {},
   "source": [
    "## Variables"
   ]
  },
  {
   "cell_type": "code",
   "execution_count": 6,
   "id": "b774aba8-547b-455a-8e85-4c0792d392dd",
   "metadata": {},
   "outputs": [],
   "source": [
    "OFFER_COST = 0.50 # Custo para enviar uma oferta para alguém. Sintético e simbólico"
   ]
  },
  {
   "cell_type": "markdown",
   "id": "a078c3e1-1490-4a67-b5cf-a88da847eb82",
   "metadata": {},
   "source": [
    "## Load Data"
   ]
  },
  {
   "cell_type": "code",
   "execution_count": 7,
   "id": "97238be3-b6cf-4934-a4c7-7037a4d7c370",
   "metadata": {},
   "outputs": [],
   "source": [
    "offers = spark.read.parquet(\"../data/processed/offers_processed\")\n",
    "transactions = spark.read.parquet(\"../data/processed/transactions_processed\")\n",
    "profile = spark.read.parquet(\"../data/processed/profile_processed\")"
   ]
  },
  {
   "cell_type": "markdown",
   "id": "73561784-8aaa-4c46-9532-f09b77124d7b",
   "metadata": {},
   "source": [
    "## Modelling"
   ]
  },
  {
   "cell_type": "markdown",
   "id": "2ea4fb4f-47ac-43ee-8cc0-1e63aa73e80a",
   "metadata": {},
   "source": [
    "### Feature Engieneering"
   ]
  },
  {
   "cell_type": "code",
   "execution_count": 8,
   "id": "bd835835-0432-43d7-b6c1-269160843234",
   "metadata": {},
   "outputs": [],
   "source": [
    "fe = FeatureEngineering(offers, transactions, profile)"
   ]
  },
  {
   "cell_type": "code",
   "execution_count": 9,
   "id": "96c5a606-0f10-4cef-891b-ec9134b57a5d",
   "metadata": {},
   "outputs": [
    {
     "name": "stdout",
     "output_type": "stream",
     "text": [
      "Column account_id is string or is in exclude list: ['account_id', 'offer_id', 'time_received', 'target']\n",
      "Column offer_id is string or is in exclude list: ['account_id', 'offer_id', 'time_received', 'target']\n",
      "Column time_received is double or is in exclude list: ['account_id', 'offer_id', 'time_received', 'target']\n",
      "Column target is int or is in exclude list: ['account_id', 'offer_id', 'time_received', 'target']\n"
     ]
    }
   ],
   "source": [
    "df, numerical_columns, categorical_columns = fe.transform()"
   ]
  },
  {
   "cell_type": "code",
   "execution_count": 10,
   "id": "a05b22ad-acb2-4a42-9ac7-f8400d965ff7",
   "metadata": {},
   "outputs": [
    {
     "name": "stdout",
     "output_type": "stream",
     "text": [
      "root\n",
      " |-- account_id: string (nullable = true)\n",
      " |-- offer_id: string (nullable = true)\n",
      " |-- time_received: double (nullable = true)\n",
      " |-- target: integer (nullable = false)\n",
      " |-- total_spend_before: double (nullable = true)\n",
      " |-- transaction_count_before: long (nullable = true)\n",
      " |-- avg_ticket_before: double (nullable = true)\n",
      " |-- max_ticket_before: double (nullable = true)\n",
      " |-- min_ticket_before: double (nullable = true)\n",
      " |-- offers_viewed_count_before: long (nullable = true)\n",
      " |-- offers_completed_count_before: long (nullable = true)\n",
      " |-- customer_conversion_rate_before: double (nullable = true)\n",
      " |-- last_offer_viewed_type: string (nullable = true)\n",
      " |-- gender: string (nullable = true)\n",
      " |-- age: long (nullable = true)\n",
      " |-- credit_card_limit: double (nullable = true)\n",
      " |-- month_sin: double (nullable = true)\n",
      " |-- month_cos: double (nullable = true)\n",
      " |-- dayofweek_sin: double (nullable = true)\n",
      " |-- dayofweek_cos: double (nullable = true)\n",
      " |-- discount_value: long (nullable = true)\n",
      " |-- duration: double (nullable = true)\n",
      " |-- min_value: long (nullable = true)\n",
      " |-- offer_type: string (nullable = true)\n",
      " |-- email: integer (nullable = true)\n",
      " |-- social: integer (nullable = true)\n",
      " |-- mobile: integer (nullable = true)\n",
      " |-- web: integer (nullable = true)\n",
      "\n"
     ]
    }
   ],
   "source": [
    "df.printSchema()"
   ]
  },
  {
   "cell_type": "markdown",
   "id": "2853bd59-40cf-47ce-98b3-3bb1c3c7bf3d",
   "metadata": {},
   "source": [
    "### Model Train"
   ]
  },
  {
   "cell_type": "code",
   "execution_count": 13,
   "id": "7c94ad47-8cfe-4085-96dd-301c343b46a0",
   "metadata": {},
   "outputs": [],
   "source": [
    "lgbm_trainer = LGBMTrainer(df, numerical_columns, categorical_columns, \"target\")"
   ]
  },
  {
   "cell_type": "code",
   "execution_count": 14,
   "id": "d8bd2bda-3bf8-4559-93a6-bc61d30e8873",
   "metadata": {
    "scrolled": true
   },
   "outputs": [],
   "source": [
    "x_train, x_test, y_train, y_test = lgbm_trainer.train()"
   ]
  },
  {
   "cell_type": "markdown",
   "id": "d6793f2d-cc6d-4de4-8314-abd6c425cb87",
   "metadata": {},
   "source": [
    "### Model Evaluate"
   ]
  },
  {
   "cell_type": "code",
   "execution_count": 15,
   "id": "4b8f19b6-fb2a-47ab-9dfa-1bc817208ab5",
   "metadata": {},
   "outputs": [],
   "source": [
    "evaluator = Evaluator(x_test, y_test)"
   ]
  },
  {
   "cell_type": "code",
   "execution_count": 16,
   "id": "3f9f956c-eaf5-4a2e-9711-e2db6e177b6e",
   "metadata": {},
   "outputs": [],
   "source": [
    "y_pred = lgbm_trainer.predict(x_test)"
   ]
  },
  {
   "cell_type": "code",
   "execution_count": 17,
   "id": "d85d51e8-df56-479f-9f90-7d618acc4545",
   "metadata": {},
   "outputs": [],
   "source": [
    "y_pred_proba = lgbm_trainer.predict_proba(x_test)"
   ]
  },
  {
   "cell_type": "code",
   "execution_count": 18,
   "id": "67366aea-c4c3-4ecc-82a0-589dca662798",
   "metadata": {},
   "outputs": [
    {
     "data": {
      "image/png": "[encoded data removed]",
      "text/plain": [
       "<Figure size 1000x800 with 1 Axes>"
      ]
     },
     "metadata": {},
     "output_type": "display_data"
    }
   ],
   "source": [
    "metrics = evaluator.report(y_pred, y_pred_proba)"
   ]
  },
  {
   "cell_type": "code",
   "execution_count": 19,
   "id": "6e455503-5683-4543-9f0a-42d8189872d1",
   "metadata": {},
   "outputs": [
    {
     "data": {
      "text/plain": [
       "dict_keys(['roc_auc', 'pr_auc', 'taxa_conversao_real_teste', 'taxa_conversao_modelo', 'classification_report'])"
      ]
     },
     "execution_count": 19,
     "metadata": {},
     "output_type": "execute_result"
    }
   ],
   "source": [
    "metrics.keys()"
   ]
  },
  {
   "cell_type": "code",
   "execution_count": 20,
   "id": "40a3f245-afc1-40b0-bbf3-412ae3048f42",
   "metadata": {},
   "outputs": [
    {
     "data": {
      "text/plain": [
       "0.67"
      ]
     },
     "execution_count": 20,
     "metadata": {},
     "output_type": "execute_result"
    }
   ],
   "source": [
    "metrics[\"roc_auc\"]"
   ]
  },
  {
   "cell_type": "code",
   "execution_count": 21,
   "id": "45d48a7e-2cc9-4fd9-ae58-8c397874d9d0",
   "metadata": {},
   "outputs": [
    {
     "data": {
      "text/plain": [
       "0.69"
      ]
     },
     "execution_count": 21,
     "metadata": {},
     "output_type": "execute_result"
    }
   ],
   "source": [
    "metrics[\"pr_auc\"]"
   ]
  },
  {
   "cell_type": "code",
   "execution_count": 22,
   "id": "e0158833-516b-4462-af3f-0329ef75233d",
   "metadata": {},
   "outputs": [
    {
     "data": {
      "text/plain": [
       "np.float64(56.58)"
      ]
     },
     "execution_count": 22,
     "metadata": {},
     "output_type": "execute_result"
    }
   ],
   "source": [
    "metrics[\"taxa_conversao_real_teste\"]"
   ]
  },
  {
   "cell_type": "code",
   "execution_count": 23,
   "id": "89ca691b-647d-421c-8d4d-7c11370e3625",
   "metadata": {},
   "outputs": [
    {
     "data": {
      "text/plain": [
       "np.float64(86.41)"
      ]
     },
     "execution_count": 23,
     "metadata": {},
     "output_type": "execute_result"
    }
   ],
   "source": [
    "metrics[\"taxa_conversao_modelo\"]"
   ]
  },
  {
   "cell_type": "code",
   "execution_count": 24,
   "id": "98eff5d0-53e3-4a94-895e-6bc769c13bc3",
   "metadata": {},
   "outputs": [
    {
     "data": {
      "text/plain": [
       "{'0': {'precision': 0.77, 'recall': 0.24, 'f1-score': 0.37, 'support': 7379.0},\n",
       " '1': {'precision': 0.62, 'recall': 0.94, 'f1-score': 0.75, 'support': 9615.0},\n",
       " 'accuracy': 0.64,\n",
       " 'macro avg': {'precision': 0.69,\n",
       "  'recall': 0.59,\n",
       "  'f1-score': 0.56,\n",
       "  'support': 16994.0},\n",
       " 'weighted avg': {'precision': 0.68,\n",
       "  'recall': 0.64,\n",
       "  'f1-score': 0.58,\n",
       "  'support': 16994.0}}"
      ]
     },
     "execution_count": 24,
     "metadata": {},
     "output_type": "execute_result"
    }
   ],
   "source": [
    "metrics[\"classification_report\"]"
   ]
  },
  {
   "cell_type": "markdown",
   "id": "177f822d-b437-49e3-9a0e-22a034f53ad1",
   "metadata": {},
   "source": [
    "#### UP Lift"
   ]
  },
  {
   "cell_type": "code",
   "execution_count": 25,
   "id": "04a4ac26-f272-4133-ad96-cbc134f52296",
   "metadata": {},
   "outputs": [],
   "source": [
    "avg_conversion_value = x_train.loc[y_train == 1,:]['max_ticket_before'].mean()"
   ]
  },
  {
   "cell_type": "code",
   "execution_count": 26,
   "id": "83b29218-5da8-438a-a2fb-636c8bc01934",
   "metadata": {},
   "outputs": [
    {
     "name": "stdout",
     "output_type": "stream",
     "text": [
      "Análise de Threshold vs. Uplift:\n",
      "    threshold  model_profit    uplift\n",
      "0        0.05     193126.74    4808.0\n",
      "1        0.10     193126.74    4808.0\n",
      "2        0.15     190864.12    2545.0\n",
      "3        0.20     190864.12    2545.0\n",
      "4        0.25     189626.68    1307.0\n",
      "5        0.30     188119.22    -200.0\n",
      "6        0.35     188119.22    -200.0\n",
      "7        0.40     188119.22    -200.0\n",
      "8        0.45     186346.42   -1973.0\n",
      "9        0.50     183041.48   -5278.0\n",
      "10       0.55     159670.89  -28648.0\n",
      "11       0.60     121991.81  -66327.0\n",
      "12       0.65     103162.72  -85157.0\n",
      "13       0.70      74171.25 -114148.0\n",
      "14       0.75      65959.02 -122360.0\n",
      "15       0.80      13308.66 -175011.0\n",
      "16       0.85          0.00 -188319.0\n",
      "17       0.90          0.00 -188319.0\n",
      "18       0.95          0.00 -188319.0\n",
      "\n",
      "--- Melhor Threshold Encontrado ---\n",
      "threshold            0.05\n",
      "model_profit    193126.74\n",
      "uplift            4808.00\n",
      "Name: 0, dtype: float64\n"
     ]
    }
   ],
   "source": [
    "results_df = find_optimal_threshold(evaluator, y_pred_proba, avg_conversion_value, OFFER_COST)"
   ]
  },
  {
   "cell_type": "code",
   "execution_count": null,
   "id": "c5d085fd-e315-429c-a069-cc3a50e16a8b",
   "metadata": {},
   "outputs": [],
   "source": []
  }
 ],
 "metadata": {
  "kernelspec": {
   "display_name": "Python 3 (ipykernel)",
   "language": "python",
   "name": "python3"
  },
  "language_info": {
   "codemirror_mode": {
    "name": "ipython",
    "version": 3
   },
   "file_extension": ".py",
   "mimetype": "text/x-python",
   "name": "python",
   "nbconvert_exporter": "python",
   "pygments_lexer": "ipython3",
   "version": "3.13.7"
  }
 },
 "nbformat": 4,
 "nbformat_minor": 5
}
